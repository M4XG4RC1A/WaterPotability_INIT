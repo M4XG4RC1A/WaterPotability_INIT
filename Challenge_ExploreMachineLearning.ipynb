{
 "cells": [
  {
   "cell_type": "markdown",
   "id": "72f03e7a",
   "metadata": {},
   "source": [
    "# MLH Init Explore Machine Learning Challenge \n",
    "\n",
    "## Aplication for Water Potability"
   ]
  },
  {
   "cell_type": "markdown",
   "id": "6577e6aa",
   "metadata": {},
   "source": [
    "### Import Libraries\n",
    "We import pandas for data, ipywidgets for widgets for notebook and sklearn for ML model."
   ]
  },
  {
   "cell_type": "code",
   "execution_count": 80,
   "id": "1fb0ba51",
   "metadata": {},
   "outputs": [],
   "source": [
    "import pandas as pd\n",
    "import ipywidgets as widgets\n",
    "import numpy as np\n",
    "from sklearn.cluster import KMeans"
   ]
  },
  {
   "cell_type": "markdown",
   "id": "57676aa1",
   "metadata": {},
   "source": [
    "### Import Dataset\n",
    "For NaN data we drop from data set for avoid noise."
   ]
  },
  {
   "cell_type": "code",
   "execution_count": 81,
   "id": "1cb29965",
   "metadata": {},
   "outputs": [
    {
     "data": {
      "text/html": [
       "<div>\n",
       "<style scoped>\n",
       "    .dataframe tbody tr th:only-of-type {\n",
       "        vertical-align: middle;\n",
       "    }\n",
       "\n",
       "    .dataframe tbody tr th {\n",
       "        vertical-align: top;\n",
       "    }\n",
       "\n",
       "    .dataframe thead th {\n",
       "        text-align: right;\n",
       "    }\n",
       "</style>\n",
       "<table border=\"1\" class=\"dataframe\">\n",
       "  <thead>\n",
       "    <tr style=\"text-align: right;\">\n",
       "      <th></th>\n",
       "      <th>ph</th>\n",
       "      <th>Hardness</th>\n",
       "      <th>Solids</th>\n",
       "      <th>Chloramines</th>\n",
       "      <th>Sulfate</th>\n",
       "      <th>Conductivity</th>\n",
       "      <th>Organic_carbon</th>\n",
       "      <th>Trihalomethanes</th>\n",
       "      <th>Turbidity</th>\n",
       "      <th>Potability</th>\n",
       "    </tr>\n",
       "  </thead>\n",
       "  <tbody>\n",
       "    <tr>\n",
       "      <th>3</th>\n",
       "      <td>8.316766</td>\n",
       "      <td>214.373394</td>\n",
       "      <td>22018.417441</td>\n",
       "      <td>8.059332</td>\n",
       "      <td>356.886136</td>\n",
       "      <td>363.266516</td>\n",
       "      <td>18.436524</td>\n",
       "      <td>100.341674</td>\n",
       "      <td>4.628771</td>\n",
       "      <td>0</td>\n",
       "    </tr>\n",
       "    <tr>\n",
       "      <th>4</th>\n",
       "      <td>9.092223</td>\n",
       "      <td>181.101509</td>\n",
       "      <td>17978.986339</td>\n",
       "      <td>6.546600</td>\n",
       "      <td>310.135738</td>\n",
       "      <td>398.410813</td>\n",
       "      <td>11.558279</td>\n",
       "      <td>31.997993</td>\n",
       "      <td>4.075075</td>\n",
       "      <td>0</td>\n",
       "    </tr>\n",
       "    <tr>\n",
       "      <th>5</th>\n",
       "      <td>5.584087</td>\n",
       "      <td>188.313324</td>\n",
       "      <td>28748.687739</td>\n",
       "      <td>7.544869</td>\n",
       "      <td>326.678363</td>\n",
       "      <td>280.467916</td>\n",
       "      <td>8.399735</td>\n",
       "      <td>54.917862</td>\n",
       "      <td>2.559708</td>\n",
       "      <td>0</td>\n",
       "    </tr>\n",
       "    <tr>\n",
       "      <th>6</th>\n",
       "      <td>10.223862</td>\n",
       "      <td>248.071735</td>\n",
       "      <td>28749.716544</td>\n",
       "      <td>7.513408</td>\n",
       "      <td>393.663396</td>\n",
       "      <td>283.651634</td>\n",
       "      <td>13.789695</td>\n",
       "      <td>84.603556</td>\n",
       "      <td>2.672989</td>\n",
       "      <td>0</td>\n",
       "    </tr>\n",
       "    <tr>\n",
       "      <th>7</th>\n",
       "      <td>8.635849</td>\n",
       "      <td>203.361523</td>\n",
       "      <td>13672.091764</td>\n",
       "      <td>4.563009</td>\n",
       "      <td>303.309771</td>\n",
       "      <td>474.607645</td>\n",
       "      <td>12.363817</td>\n",
       "      <td>62.798309</td>\n",
       "      <td>4.401425</td>\n",
       "      <td>0</td>\n",
       "    </tr>\n",
       "    <tr>\n",
       "      <th>...</th>\n",
       "      <td>...</td>\n",
       "      <td>...</td>\n",
       "      <td>...</td>\n",
       "      <td>...</td>\n",
       "      <td>...</td>\n",
       "      <td>...</td>\n",
       "      <td>...</td>\n",
       "      <td>...</td>\n",
       "      <td>...</td>\n",
       "      <td>...</td>\n",
       "    </tr>\n",
       "    <tr>\n",
       "      <th>3267</th>\n",
       "      <td>8.989900</td>\n",
       "      <td>215.047358</td>\n",
       "      <td>15921.412018</td>\n",
       "      <td>6.297312</td>\n",
       "      <td>312.931022</td>\n",
       "      <td>390.410231</td>\n",
       "      <td>9.899115</td>\n",
       "      <td>55.069304</td>\n",
       "      <td>4.613843</td>\n",
       "      <td>1</td>\n",
       "    </tr>\n",
       "    <tr>\n",
       "      <th>3268</th>\n",
       "      <td>6.702547</td>\n",
       "      <td>207.321086</td>\n",
       "      <td>17246.920347</td>\n",
       "      <td>7.708117</td>\n",
       "      <td>304.510230</td>\n",
       "      <td>329.266002</td>\n",
       "      <td>16.217303</td>\n",
       "      <td>28.878601</td>\n",
       "      <td>3.442983</td>\n",
       "      <td>1</td>\n",
       "    </tr>\n",
       "    <tr>\n",
       "      <th>3269</th>\n",
       "      <td>11.491011</td>\n",
       "      <td>94.812545</td>\n",
       "      <td>37188.826022</td>\n",
       "      <td>9.263166</td>\n",
       "      <td>258.930600</td>\n",
       "      <td>439.893618</td>\n",
       "      <td>16.172755</td>\n",
       "      <td>41.558501</td>\n",
       "      <td>4.369264</td>\n",
       "      <td>1</td>\n",
       "    </tr>\n",
       "    <tr>\n",
       "      <th>3270</th>\n",
       "      <td>6.069616</td>\n",
       "      <td>186.659040</td>\n",
       "      <td>26138.780191</td>\n",
       "      <td>7.747547</td>\n",
       "      <td>345.700257</td>\n",
       "      <td>415.886955</td>\n",
       "      <td>12.067620</td>\n",
       "      <td>60.419921</td>\n",
       "      <td>3.669712</td>\n",
       "      <td>1</td>\n",
       "    </tr>\n",
       "    <tr>\n",
       "      <th>3271</th>\n",
       "      <td>4.668102</td>\n",
       "      <td>193.681735</td>\n",
       "      <td>47580.991603</td>\n",
       "      <td>7.166639</td>\n",
       "      <td>359.948574</td>\n",
       "      <td>526.424171</td>\n",
       "      <td>13.894419</td>\n",
       "      <td>66.687695</td>\n",
       "      <td>4.435821</td>\n",
       "      <td>1</td>\n",
       "    </tr>\n",
       "  </tbody>\n",
       "</table>\n",
       "<p>2011 rows × 10 columns</p>\n",
       "</div>"
      ],
      "text/plain": [
       "             ph    Hardness        Solids  Chloramines     Sulfate  \\\n",
       "3      8.316766  214.373394  22018.417441     8.059332  356.886136   \n",
       "4      9.092223  181.101509  17978.986339     6.546600  310.135738   \n",
       "5      5.584087  188.313324  28748.687739     7.544869  326.678363   \n",
       "6     10.223862  248.071735  28749.716544     7.513408  393.663396   \n",
       "7      8.635849  203.361523  13672.091764     4.563009  303.309771   \n",
       "...         ...         ...           ...          ...         ...   \n",
       "3267   8.989900  215.047358  15921.412018     6.297312  312.931022   \n",
       "3268   6.702547  207.321086  17246.920347     7.708117  304.510230   \n",
       "3269  11.491011   94.812545  37188.826022     9.263166  258.930600   \n",
       "3270   6.069616  186.659040  26138.780191     7.747547  345.700257   \n",
       "3271   4.668102  193.681735  47580.991603     7.166639  359.948574   \n",
       "\n",
       "      Conductivity  Organic_carbon  Trihalomethanes  Turbidity  Potability  \n",
       "3       363.266516       18.436524       100.341674   4.628771           0  \n",
       "4       398.410813       11.558279        31.997993   4.075075           0  \n",
       "5       280.467916        8.399735        54.917862   2.559708           0  \n",
       "6       283.651634       13.789695        84.603556   2.672989           0  \n",
       "7       474.607645       12.363817        62.798309   4.401425           0  \n",
       "...            ...             ...              ...        ...         ...  \n",
       "3267    390.410231        9.899115        55.069304   4.613843           1  \n",
       "3268    329.266002       16.217303        28.878601   3.442983           1  \n",
       "3269    439.893618       16.172755        41.558501   4.369264           1  \n",
       "3270    415.886955       12.067620        60.419921   3.669712           1  \n",
       "3271    526.424171       13.894419        66.687695   4.435821           1  \n",
       "\n",
       "[2011 rows x 10 columns]"
      ]
     },
     "execution_count": 81,
     "metadata": {},
     "output_type": "execute_result"
    }
   ],
   "source": [
    "WaterDBoriginal = pd.read_csv('water_potability.csv')\n",
    "WaterDBoriginal = WaterDBoriginal.dropna()\n",
    "WaterDBoriginal"
   ]
  },
  {
   "cell_type": "markdown",
   "id": "0eb22ce8",
   "metadata": {},
   "source": [
    "### Clear data\n",
    "We sort data by potability, and delete Potability data because this is going to be our prediction."
   ]
  },
  {
   "cell_type": "code",
   "execution_count": 82,
   "id": "6e253f68",
   "metadata": {},
   "outputs": [
    {
     "data": {
      "text/html": [
       "<div>\n",
       "<style scoped>\n",
       "    .dataframe tbody tr th:only-of-type {\n",
       "        vertical-align: middle;\n",
       "    }\n",
       "\n",
       "    .dataframe tbody tr th {\n",
       "        vertical-align: top;\n",
       "    }\n",
       "\n",
       "    .dataframe thead th {\n",
       "        text-align: right;\n",
       "    }\n",
       "</style>\n",
       "<table border=\"1\" class=\"dataframe\">\n",
       "  <thead>\n",
       "    <tr style=\"text-align: right;\">\n",
       "      <th></th>\n",
       "      <th>ph</th>\n",
       "      <th>Hardness</th>\n",
       "      <th>Solids</th>\n",
       "      <th>Chloramines</th>\n",
       "      <th>Sulfate</th>\n",
       "      <th>Conductivity</th>\n",
       "      <th>Organic_carbon</th>\n",
       "      <th>Trihalomethanes</th>\n",
       "      <th>Turbidity</th>\n",
       "    </tr>\n",
       "  </thead>\n",
       "  <tbody>\n",
       "    <tr>\n",
       "      <th>3</th>\n",
       "      <td>8.316766</td>\n",
       "      <td>214.373394</td>\n",
       "      <td>22018.417441</td>\n",
       "      <td>8.059332</td>\n",
       "      <td>356.886136</td>\n",
       "      <td>363.266516</td>\n",
       "      <td>18.436524</td>\n",
       "      <td>100.341674</td>\n",
       "      <td>4.628771</td>\n",
       "    </tr>\n",
       "    <tr>\n",
       "      <th>1354</th>\n",
       "      <td>6.453065</td>\n",
       "      <td>178.998245</td>\n",
       "      <td>23129.460178</td>\n",
       "      <td>6.354508</td>\n",
       "      <td>326.853185</td>\n",
       "      <td>371.882763</td>\n",
       "      <td>13.178301</td>\n",
       "      <td>41.525863</td>\n",
       "      <td>3.440859</td>\n",
       "    </tr>\n",
       "    <tr>\n",
       "      <th>1353</th>\n",
       "      <td>11.534880</td>\n",
       "      <td>183.262261</td>\n",
       "      <td>4111.785432</td>\n",
       "      <td>7.416773</td>\n",
       "      <td>398.955345</td>\n",
       "      <td>475.255395</td>\n",
       "      <td>10.839796</td>\n",
       "      <td>69.420035</td>\n",
       "      <td>3.000096</td>\n",
       "    </tr>\n",
       "    <tr>\n",
       "      <th>1352</th>\n",
       "      <td>7.475537</td>\n",
       "      <td>215.429102</td>\n",
       "      <td>31359.386456</td>\n",
       "      <td>7.498495</td>\n",
       "      <td>337.462379</td>\n",
       "      <td>477.235053</td>\n",
       "      <td>12.186310</td>\n",
       "      <td>53.908820</td>\n",
       "      <td>4.015574</td>\n",
       "    </tr>\n",
       "    <tr>\n",
       "      <th>1351</th>\n",
       "      <td>8.647454</td>\n",
       "      <td>183.597374</td>\n",
       "      <td>12995.885427</td>\n",
       "      <td>6.195449</td>\n",
       "      <td>382.357869</td>\n",
       "      <td>489.762799</td>\n",
       "      <td>18.076963</td>\n",
       "      <td>93.409614</td>\n",
       "      <td>3.624101</td>\n",
       "    </tr>\n",
       "    <tr>\n",
       "      <th>...</th>\n",
       "      <td>...</td>\n",
       "      <td>...</td>\n",
       "      <td>...</td>\n",
       "      <td>...</td>\n",
       "      <td>...</td>\n",
       "      <td>...</td>\n",
       "      <td>...</td>\n",
       "      <td>...</td>\n",
       "      <td>...</td>\n",
       "    </tr>\n",
       "    <tr>\n",
       "      <th>1595</th>\n",
       "      <td>6.917858</td>\n",
       "      <td>200.705505</td>\n",
       "      <td>27651.609099</td>\n",
       "      <td>6.529774</td>\n",
       "      <td>321.696455</td>\n",
       "      <td>453.637510</td>\n",
       "      <td>11.283387</td>\n",
       "      <td>91.942181</td>\n",
       "      <td>5.544167</td>\n",
       "    </tr>\n",
       "    <tr>\n",
       "      <th>1594</th>\n",
       "      <td>8.733525</td>\n",
       "      <td>203.396130</td>\n",
       "      <td>24578.421221</td>\n",
       "      <td>6.594145</td>\n",
       "      <td>288.678463</td>\n",
       "      <td>336.824656</td>\n",
       "      <td>16.701920</td>\n",
       "      <td>68.793062</td>\n",
       "      <td>3.149202</td>\n",
       "    </tr>\n",
       "    <tr>\n",
       "      <th>1593</th>\n",
       "      <td>7.571684</td>\n",
       "      <td>173.008338</td>\n",
       "      <td>8835.555876</td>\n",
       "      <td>9.566105</td>\n",
       "      <td>436.294071</td>\n",
       "      <td>305.834487</td>\n",
       "      <td>11.009592</td>\n",
       "      <td>92.481885</td>\n",
       "      <td>3.920288</td>\n",
       "    </tr>\n",
       "    <tr>\n",
       "      <th>1600</th>\n",
       "      <td>7.274198</td>\n",
       "      <td>156.110829</td>\n",
       "      <td>16255.901371</td>\n",
       "      <td>7.654550</td>\n",
       "      <td>381.180466</td>\n",
       "      <td>591.801472</td>\n",
       "      <td>12.312493</td>\n",
       "      <td>59.680518</td>\n",
       "      <td>3.152763</td>\n",
       "    </tr>\n",
       "    <tr>\n",
       "      <th>3271</th>\n",
       "      <td>4.668102</td>\n",
       "      <td>193.681735</td>\n",
       "      <td>47580.991603</td>\n",
       "      <td>7.166639</td>\n",
       "      <td>359.948574</td>\n",
       "      <td>526.424171</td>\n",
       "      <td>13.894419</td>\n",
       "      <td>66.687695</td>\n",
       "      <td>4.435821</td>\n",
       "    </tr>\n",
       "  </tbody>\n",
       "</table>\n",
       "<p>2011 rows × 9 columns</p>\n",
       "</div>"
      ],
      "text/plain": [
       "             ph    Hardness        Solids  Chloramines     Sulfate  \\\n",
       "3      8.316766  214.373394  22018.417441     8.059332  356.886136   \n",
       "1354   6.453065  178.998245  23129.460178     6.354508  326.853185   \n",
       "1353  11.534880  183.262261   4111.785432     7.416773  398.955345   \n",
       "1352   7.475537  215.429102  31359.386456     7.498495  337.462379   \n",
       "1351   8.647454  183.597374  12995.885427     6.195449  382.357869   \n",
       "...         ...         ...           ...          ...         ...   \n",
       "1595   6.917858  200.705505  27651.609099     6.529774  321.696455   \n",
       "1594   8.733525  203.396130  24578.421221     6.594145  288.678463   \n",
       "1593   7.571684  173.008338   8835.555876     9.566105  436.294071   \n",
       "1600   7.274198  156.110829  16255.901371     7.654550  381.180466   \n",
       "3271   4.668102  193.681735  47580.991603     7.166639  359.948574   \n",
       "\n",
       "      Conductivity  Organic_carbon  Trihalomethanes  Turbidity  \n",
       "3       363.266516       18.436524       100.341674   4.628771  \n",
       "1354    371.882763       13.178301        41.525863   3.440859  \n",
       "1353    475.255395       10.839796        69.420035   3.000096  \n",
       "1352    477.235053       12.186310        53.908820   4.015574  \n",
       "1351    489.762799       18.076963        93.409614   3.624101  \n",
       "...            ...             ...              ...        ...  \n",
       "1595    453.637510       11.283387        91.942181   5.544167  \n",
       "1594    336.824656       16.701920        68.793062   3.149202  \n",
       "1593    305.834487       11.009592        92.481885   3.920288  \n",
       "1600    591.801472       12.312493        59.680518   3.152763  \n",
       "3271    526.424171       13.894419        66.687695   4.435821  \n",
       "\n",
       "[2011 rows x 9 columns]"
      ]
     },
     "execution_count": 82,
     "metadata": {},
     "output_type": "execute_result"
    }
   ],
   "source": [
    "WaterDBoriginal = WaterDBoriginal.sort_values(\"Potability\")\n",
    "WaterDB = WaterDBoriginal.drop(columns=\"Potability\")\n",
    "WaterDB"
   ]
  },
  {
   "cell_type": "markdown",
   "id": "46a39b98",
   "metadata": {},
   "source": [
    "### Start ML model\n",
    "For this model we use Kmeans model for ML, starting 2 clusters because in this case we search if is or isn't potable."
   ]
  },
  {
   "cell_type": "code",
   "execution_count": 83,
   "id": "709a7f26",
   "metadata": {},
   "outputs": [],
   "source": [
    "kmeans = KMeans(n_clusters=2, random_state=0).fit(WaterDB)"
   ]
  },
  {
   "cell_type": "markdown",
   "id": "df8af532",
   "metadata": {},
   "source": [
    "### Predict Values\n",
    "Start with data and predict from kmeans model."
   ]
  },
  {
   "cell_type": "code",
   "execution_count": 84,
   "id": "bc609c32",
   "metadata": {},
   "outputs": [
    {
     "data": {
      "application/vnd.jupyter.widget-view+json": {
       "model_id": "c3da6c9de1424b83b79969881fe7c05a",
       "version_major": 2,
       "version_minor": 0
      },
      "text/plain": [
       "FloatText(value=4.67, description='pH')"
      ]
     },
     "metadata": {},
     "output_type": "display_data"
    },
    {
     "data": {
      "application/vnd.jupyter.widget-view+json": {
       "model_id": "7ab6886dea0842e88e8997485dc428d1",
       "version_major": 2,
       "version_minor": 0
      },
      "text/plain": [
       "FloatText(value=193.68, description='Hardness')"
      ]
     },
     "metadata": {},
     "output_type": "display_data"
    },
    {
     "data": {
      "application/vnd.jupyter.widget-view+json": {
       "model_id": "20a468e704ae4ef2b8f704362e43c8dd",
       "version_major": 2,
       "version_minor": 0
      },
      "text/plain": [
       "FloatText(value=47580.99, description='Solids')"
      ]
     },
     "metadata": {},
     "output_type": "display_data"
    },
    {
     "data": {
      "application/vnd.jupyter.widget-view+json": {
       "model_id": "e7807f12188a4d30b63b2be3e3761fad",
       "version_major": 2,
       "version_minor": 0
      },
      "text/plain": [
       "FloatText(value=7.17, description='Chloramines')"
      ]
     },
     "metadata": {},
     "output_type": "display_data"
    },
    {
     "data": {
      "application/vnd.jupyter.widget-view+json": {
       "model_id": "81e2553ba6514a809d3b21f2eb754efa",
       "version_major": 2,
       "version_minor": 0
      },
      "text/plain": [
       "FloatText(value=359.95, description='Sulfate')"
      ]
     },
     "metadata": {},
     "output_type": "display_data"
    },
    {
     "data": {
      "application/vnd.jupyter.widget-view+json": {
       "model_id": "eb85b461bb304c6abb89b2fe04bdfed7",
       "version_major": 2,
       "version_minor": 0
      },
      "text/plain": [
       "FloatText(value=526.42, description='Conductivity')"
      ]
     },
     "metadata": {},
     "output_type": "display_data"
    },
    {
     "data": {
      "application/vnd.jupyter.widget-view+json": {
       "model_id": "e13dabf2dc08451b96ee8089fbf2c2d9",
       "version_major": 2,
       "version_minor": 0
      },
      "text/plain": [
       "FloatText(value=13.89, description='Organic Carbon')"
      ]
     },
     "metadata": {},
     "output_type": "display_data"
    },
    {
     "data": {
      "application/vnd.jupyter.widget-view+json": {
       "model_id": "ce34919412ab4dbab14eeb67b449d5a2",
       "version_major": 2,
       "version_minor": 0
      },
      "text/plain": [
       "FloatText(value=66.69, description='Trihalomethanes')"
      ]
     },
     "metadata": {},
     "output_type": "display_data"
    },
    {
     "data": {
      "application/vnd.jupyter.widget-view+json": {
       "model_id": "ce86127f5ef94a70bdb9b48ef6aaa63e",
       "version_major": 2,
       "version_minor": 0
      },
      "text/plain": [
       "FloatText(value=4.44, description='Turbidity')"
      ]
     },
     "metadata": {},
     "output_type": "display_data"
    }
   ],
   "source": [
    "pH = widgets.FloatText(value = 4.67, description='pH')\n",
    "Hardness = widgets.FloatText(value = 193.68, description='Hardness')\n",
    "Solids = widgets.FloatText(value = 47580.99, description='Solids')\n",
    "Chloramines = widgets.FloatText(value = 7.17, description='Chloramines')\n",
    "Sulfate = widgets.FloatText(value = 359.95, description='Sulfate')\n",
    "Conductivity = widgets.FloatText(value = 526.42, description='Conductivity')\n",
    "OrganicCarbon = widgets.FloatText(value = 13.89, description='Organic Carbon')\n",
    "Trihalomethanes = widgets.FloatText(value = 66.69, description='Trihalomethanes')\n",
    "Turbidity = widgets.FloatText(value = 4.44, description='Turbidity')\n",
    "display(pH,Hardness,Solids,Chloramines,Sulfate,Conductivity,OrganicCarbon,Trihalomethanes,Turbidity)"
   ]
  },
  {
   "cell_type": "code",
   "execution_count": 85,
   "id": "00fa7c28",
   "metadata": {},
   "outputs": [
    {
     "name": "stdout",
     "output_type": "stream",
     "text": [
      "The water is potable\n"
     ]
    }
   ],
   "source": [
    "Value = kmeans.predict([[pH.value,Hardness.value,Solids.value,Chloramines.value,Sulfate.value,Conductivity.value,OrganicCarbon.value,Trihalomethanes.value,Turbidity.value]])\n",
    "if(Value.item(0) == 0):\n",
    "    val = \"The water is dangerous\"\n",
    "else:\n",
    "    val = \"The water is potable\"\n",
    "print(val)"
   ]
  }
 ],
 "metadata": {
  "kernelspec": {
   "display_name": "Python 3",
   "language": "python",
   "name": "python3"
  },
  "language_info": {
   "codemirror_mode": {
    "name": "ipython",
    "version": 3
   },
   "file_extension": ".py",
   "mimetype": "text/x-python",
   "name": "python",
   "nbconvert_exporter": "python",
   "pygments_lexer": "ipython3",
   "version": "3.8.8"
  }
 },
 "nbformat": 4,
 "nbformat_minor": 5
}
